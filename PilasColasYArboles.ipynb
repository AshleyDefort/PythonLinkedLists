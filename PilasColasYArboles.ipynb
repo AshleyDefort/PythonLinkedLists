{
 "cells": [
  {
   "cell_type": "markdown",
   "metadata": {},
   "source": [
    "# Pilas, Colas y Árboles "
   ]
  },
  {
   "cell_type": "markdown",
   "metadata": {},
   "source": [
    "## Pilas o Stacks📚\n",
    "Una pila es una estructura dinámica que “apila” elementos de forma que para llegar al primero, hay que quitar todos los nodos que se hayan añadido después. Utiliza LIFO (Last Input First Output) que significa que el último que entra es el primero que saldrá."
   ]
  },
  {
   "cell_type": "markdown",
   "metadata": {},
   "source": [
    "### Clase para implementar Stacks (Pilas)\n"
   ]
  },
  {
   "cell_type": "code",
   "execution_count": 3,
   "metadata": {},
   "outputs": [],
   "source": [
    "from typing import Any, List, Optional\n",
    "class Stack:\n",
    "    def __init__(self) -> None:\n",
    "        self.stack: List[Any] = []\n",
    "    \n",
    "    #add an element to the stack\n",
    "    def add(self, elem:Any) -> None:\n",
    "       self.stack.append(elem)\n",
    "\n",
    "    #remove an element from the stack\n",
    "    def remove(self, elem:Any) -> None:\n",
    "        self.stack.pop() \n",
    "    \n",
    "    #return the lenght of the stack\n",
    "    def size(self):\n",
    "        return len(self.stack)\n"
   ]
  },
  {
   "cell_type": "markdown",
   "metadata": {},
   "source": [
    "## Colas o Queues🚶‍♀️🚶‍♀️🚶🚶‍♂️🚶\n",
    "Una cola es una colección ordenada de elementos en la que solo se pueden borrar elementos de un extremo llamado frente de la cola e insertar elementos en el otro extremo llamado final de la cola. Utiliza FIFO (First In First Out), que significa que el primero que entra es el primero que sale."
   ]
  },
  {
   "cell_type": "markdown",
   "metadata": {},
   "source": [
    "### Clase para implementar Queues (Colas)"
   ]
  },
  {
   "cell_type": "code",
   "execution_count": 4,
   "metadata": {},
   "outputs": [],
   "source": [
    "class Queue:\n",
    "    def __init__(self) -> None:\n",
    "        self.queue: List[Any] = []\n",
    "    \n",
    "    #add an element to the queue\n",
    "    def add(self, elem:Any) -> None:\n",
    "       self.queue.append(elem)\n",
    "\n",
    "    #remove an element from the queue\n",
    "    def remove(self, elem:Any) -> None:\n",
    "        self.queue.pop(0) \n",
    "    \n",
    "    #return the lenght of the queue\n",
    "    def size(self):\n",
    "        return len(self.queue)"
   ]
  },
  {
   "cell_type": "markdown",
   "metadata": {},
   "source": [
    "## Árboles Binarios 🌳\n",
    "Los árboles binarios son un tipo de árbol en el que cada nodo puede tener máximo dos hijos."
   ]
  },
  {
   "cell_type": "markdown",
   "metadata": {},
   "source": [
    "### Clase para implementar Nodos para Árboles"
   ]
  },
  {
   "cell_type": "code",
   "execution_count": 5,
   "metadata": {},
   "outputs": [],
   "source": [
    "class Node:\n",
    "    def __init__(self, data: Any) -> None:\n",
    "        # data is the value of the node\n",
    "        self.data = data \n",
    "        # left is the left child of the node\n",
    "        self.left: Optional[\"Node\"] = None\n",
    "        # right is the right child of the node\n",
    "        self.right: Optional[\"Node\"] = None"
   ]
  },
  {
   "cell_type": "markdown",
   "metadata": {},
   "source": [
    "### Clase para implementar Árboles Binarios y sus Operaciones"
   ]
  },
  {
   "cell_type": "code",
   "execution_count": 6,
   "metadata": {},
   "outputs": [],
   "source": [
    "class Tree:\n",
    "    def __init__(self, root: \"Node\") -> None:\n",
    "        self.root=root\n",
    "    \n",
    "    def preorder(self)->None:\n",
    "        self.__preorderRecursive(self.root)\n",
    "    \n",
    "    #preorder traversal using recursion\n",
    "    def __preorderRecursive(self, node: Optional[\"Node\"])->None:\n",
    "        if node:\n",
    "            print(node.data, end=\" \")\n",
    "            self._preorderRecursive(node.left)\n",
    "            self._preorderRecursive(node.right)\n",
    "    \n",
    "    #preorder traversal using iteration\n",
    "    def __preorderIterative(self, node: Optional[\"Node\"])->None:\n",
    "        stack = Stack()\n",
    "        stack.add(node)\n",
    "        while stack.size() > 0:\n",
    "            node = stack.stack.pop()\n",
    "            print(node.data, end=\" \")\n",
    "            if node.right:\n",
    "                stack.add(node.right)\n",
    "            if node.left:\n",
    "                stack.add(node.left)\n",
    "\n",
    "    def inorder(self)->None:\n",
    "        self.__inorderRecursive(self.root)\n",
    "\n",
    "    #inorder traversal using recursion\n",
    "    def __inorderRecursive(self, node: Optional[\"Node\"])->None:\n",
    "        if node:\n",
    "            self._inorderRecursive(node.left)\n",
    "            print(node.data, end=\" \")\n",
    "            self._inorderRecursive(node.right)\n",
    "    \n",
    "    #inorder traversal using iteration\n",
    "    def __inorderIterative(self, node: Optional[\"Node\"])->None:\n",
    "        stack = Stack()\n",
    "        while stack.size() > 0 or node:\n",
    "            if node:\n",
    "                stack.add(node)\n",
    "                node = node.left\n",
    "            else:\n",
    "                node = stack.stack.pop()\n",
    "                print(node.data, end=\" \")\n",
    "                node = node.right\n",
    "    \n",
    "    def postorder(self)->None:\n",
    "        self.__postorderRecursive(self.root)\n",
    "\n",
    "    #postorder traversal using recursion\n",
    "    def __postorderRecursive(self, node: Optional[\"Node\"])->None:\n",
    "        if node:\n",
    "            self._postorderRecursive(node.left)\n",
    "            self._postorderRecursive(node.right)\n",
    "            print(node.data, end=\" \")\n",
    "\n",
    "    #postorder traversal using iteration\n",
    "    def __postorderIterative(self, node: Optional[\"Node\"])->None:\n",
    "        stack = Stack()\n",
    "        stack.add(node)\n",
    "        while stack.size() > 0:\n",
    "            node = stack.stack.pop()\n",
    "            print(node.data, end=\" \")\n",
    "            if node.left:\n",
    "                stack.add(node.left)\n",
    "            if node.right:\n",
    "                stack.add(node.right)\n",
    "    \n",
    "    def levelorder(self)->None:\n",
    "        self.__levelOrderIterative(self.root)\n",
    "        \n",
    "\n",
    "    #levelorder traversal using iteration\n",
    "    def __levelOrderIterative(self, node: Optional[\"Node\"])->None:\n",
    "        if node:\n",
    "            queue = Queue()\n",
    "            queue.add(node)\n",
    "            while queue.size() > 0:\n",
    "                node = queue.queue.pop(0)\n",
    "                print(node.data, end=\" \")\n",
    "                if node.left:\n",
    "                    queue.add(node.left)\n",
    "                if node.right:\n",
    "                    queue.add(node.right)\n",
    "\n",
    "    #search for a node in the tree\n",
    "    def searchNode(self, node: Optional[\"Node\"], value: Any)->Optional[\"Node\"]:\n",
    "        if node:\n",
    "            if node.data == value:\n",
    "                return node\n",
    "            left = self.searchNode(node.left, value)\n",
    "            right = self.searchNode(node.right, value)\n",
    "            if left:\n",
    "                return left\n",
    "            if right:\n",
    "                return right\n",
    "        return None\n",
    "\n",
    "    #search for the father of a node\n",
    "    def searchFather(self, node: Optional[\"Node\"], value: Any)->Optional[\"Node\"]:\n",
    "        if node:\n",
    "            if (node.left and node.left.data == value) or (node.right and node.right.data == value):\n",
    "                return node\n",
    "            else:\n",
    "                left = self.searchFather(node.left, value)\n",
    "                right = self.searchFather(node.right, value)\n",
    "                if left:\n",
    "                    return left\n",
    "                if right:\n",
    "                    return right\n",
    "        return None\n",
    "    \n",
    "    #search for the grandfather of a node\n",
    "    def searchGrandFather(self, node: Optional[\"Node\"], value: Any)->Optional[\"Node\"]:\n",
    "        father = self.searchFather(node, value)\n",
    "        if father:\n",
    "            return self.searchFather(node, father.data)\n",
    "        return None\n",
    "    \n",
    "    #search for the sibling of a node\n",
    "    def searchSibling(self, node: Optional[\"Node\"], value: Any)->Optional[\"Node\"]:\n",
    "        father = self.searchFather(node, value)\n",
    "        if father:\n",
    "            if father.left and father.left.data == value:\n",
    "                return father.right\n",
    "            if father.right and father.right.data == value:\n",
    "                return father.left\n",
    "        return None\n",
    "\n",
    "    #search for the uncle of a node\n",
    "    def searchUncle(self, node: Optional[\"Node\"], value: Any)->Optional[\"Node\"]:\n",
    "        father = self.searchFather(node, value)\n",
    "        if father:\n",
    "            return self.searchSibling(father, value)\n",
    "        return None\n",
    "\n"
   ]
  },
  {
   "cell_type": "markdown",
   "metadata": {},
   "source": [
    "## Árboles Binarios de Búsqueda🌳🔍\n",
    "Son un tipo de árbol binario en los que no se puede repetir información en los nodos y la información está en un orden específico. Esto es, la información del hijo izquierdo de un nodo siempre debe ser menor que la de su padre y la información del hijo derecho de un nodo debe ser mayor que la de su padre."
   ]
  },
  {
   "cell_type": "markdown",
   "metadata": {},
   "source": [
    "### Operaciones en Árboles Binarios de Búsqueda"
   ]
  },
  {
   "cell_type": "code",
   "execution_count": 7,
   "metadata": {},
   "outputs": [],
   "source": [
    "class SearchBinaryTree:\n",
    "    def __init__(self, root: \"Node\") -> None:\n",
    "        super().__init__(root)\n",
    "    \n",
    "    #search for a node in the tree\n",
    "    def searchNode(self, value: Any)->Optional[\"Node\"]:\n",
    "        node, nodeFather = self.root, None\n",
    "        if node:\n",
    "            if node.data == value:\n",
    "                return node, nodeFather\n",
    "            if value < node.data:\n",
    "                nodeFather = node\n",
    "                node = node.left\n",
    "                return self.searchNode(node, value)\n",
    "            else:\n",
    "                nodeFather = node\n",
    "                node = node.right\n",
    "                return self.searchNode(node, value)\n",
    "        return None\n",
    "    \n",
    "    #insert a node in the tree\n",
    "    def insertNode(self, node: Optional[\"Node\"], value: Any)->None:\n",
    "        if self.root is None:\n",
    "            self.root = Node(value)\n",
    "            return True\n",
    "        else:\n",
    "            node, nodeFather = self.searchNode(value)\n",
    "            if node is None:\n",
    "                if value < nodeFather.data:\n",
    "                    if node.left:\n",
    "                        self.insertNode(node.left, value)\n",
    "                    else:\n",
    "                        node.left = Node(value)\n",
    "                else:\n",
    "                    if node.right:\n",
    "                        self.insertNode(node.right, value)\n",
    "                    else:\n",
    "                        node.right = Node(value)\n",
    "    \n",
    "    #predescessor of a node\n",
    "    def predescessor(self, node: Optional[\"Node\"])->Optional[\"Node\"]:\n",
    "        nodeAux, nodeFather = node.left, node\n",
    "        if node:\n",
    "            node = node.left\n",
    "            while node.right:\n",
    "                nodeAux, nodeFather = nodeAux.right, nodeFather\n",
    "            return nodeAux, nodeFather\n",
    "        return None\n",
    "    \n",
    "    #successor of a node\n",
    "    def successor(self, node: Optional[\"Node\"])->Optional[\"Node\"]:\n",
    "        nodeAux, nodeFather = node.right, node\n",
    "        if node:\n",
    "            node = node.right\n",
    "            while node.left:\n",
    "                nodeAux, nodeFather = nodeAux.left, nodeFather\n",
    "            return nodeAux, nodeFather\n",
    "        return None\n",
    "    \n",
    "    #remove a node from the tree\n",
    "    def removeNode(self, value: Any)->None:\n",
    "        node, nodeFather = self.searchNode(value)\n",
    "        if node:\n",
    "            if node.left is None and node.right is None:\n",
    "                if nodeFather.left and nodeFather.left.data == value:\n",
    "                    nodeFather.left = None\n",
    "                else:\n",
    "                    nodeFather.right = None\n",
    "            elif node.left and node.right:\n",
    "                predescessor, predescessorFather = self.predescessor(node)\n",
    "                node.data = predescessor.data\n",
    "                if predescessorFather.left and predescessorFather.left.data == predescessor.data:\n",
    "                    predescessorFather.left = None\n",
    "                else:\n",
    "                    predescessorFather.right = None\n",
    "            else:\n",
    "                if node.left:\n",
    "                    if nodeFather.left and nodeFather.left.data == value:\n",
    "                        nodeFather.left = node.left\n",
    "                    else:\n",
    "                        nodeFather.right = node.left\n",
    "                else:\n",
    "                    if nodeFather.left and nodeFather.left.data == value:\n",
    "                        nodeFather.left = node.right\n",
    "                    else:\n",
    "                        nodeFather.right = node.right\n",
    "        else:\n",
    "            print(\"Node not found\")"
   ]
  },
  {
   "cell_type": "markdown",
   "metadata": {},
   "source": [
    "## Árboles AVL 🌳🍃"
   ]
  },
  {
   "cell_type": "markdown",
   "metadata": {},
   "source": [
    "Los árboles AVL son un tipo de árbol binario de búsqueda que se caracteriza por mantener el equilibrio de altura en sus subárboles. El nombre AVL proviene de los apellidos de los inventores de este tipo de árbol, Adelson-Velskii y Landis. En un árbol AVL, la diferencia de altura entre los subárboles izquierdo y derecho de cada nodo no puede ser mayor que 1. Esto garantiza que la altura del árbol sea lo más equilibrada posible, lo que a su vez mejora la eficiencia de las operaciones de búsqueda, inserción y eliminación. Para mantener el equilibrio, los árboles AVL utilizan rotaciones, que son operaciones que reorganizan los nodos del árbol sin cambiar su estructura de búsqueda. Estas rotaciones se realizan automáticamente cuando se inserta o elimina un nodo y se detecta un desequilibrio en la altura. En resumen, los árboles AVL son una estructura de datos eficiente para almacenar y buscar elementos en orden, ya que garantizan un equilibrio de altura óptimo en todo momento.\n",
    "\n"
   ]
  },
  {
   "cell_type": "code",
   "execution_count": null,
   "metadata": {},
   "outputs": [],
   "source": [
    "\n"
   ]
  }
 ],
 "metadata": {
  "kernelspec": {
   "display_name": "Python 3",
   "language": "python",
   "name": "python3"
  },
  "language_info": {
   "codemirror_mode": {
    "name": "ipython",
    "version": 3
   },
   "file_extension": ".py",
   "mimetype": "text/x-python",
   "name": "python",
   "nbconvert_exporter": "python",
   "pygments_lexer": "ipython3",
   "version": "3.11.4"
  }
 },
 "nbformat": 4,
 "nbformat_minor": 2
}

{
 "cells": [
  {
   "cell_type": "markdown",
   "metadata": {},
   "source": [
    "# Pilas, Colas y Árboles "
   ]
  },
  {
   "cell_type": "markdown",
   "metadata": {},
   "source": [
    "## Pilas o Stacks📚\n",
    "Una pila es una estructura dinámica que “apila” elementos de forma que para llegar al primero, hay que quitar todos los nodos que se hayan añadido después. Utiliza LIFO (Last Input First Output) que significa que el último que entra es el primero que saldrá."
   ]
  },
  {
   "cell_type": "markdown",
   "metadata": {},
   "source": [
    "### Clase para implementar Stacks (Pilas)\n"
   ]
  },
  {
   "cell_type": "code",
   "execution_count": 5,
   "metadata": {},
   "outputs": [],
   "source": [
    "from typing import Any, List, Optional\n",
    "class Stack:\n",
    "    def __init__(self) -> None:\n",
    "        self.stack: List[Any] = []\n",
    "    \n",
    "    def add(self, elem:Any) -> None:\n",
    "       self.stack.append(elem)\n",
    "\n",
    "    def remove(self, elem:Any) -> None:\n",
    "        self.stack.pop() \n",
    "    \n",
    "    def size(self):\n",
    "        return len(self.stack)\n"
   ]
  },
  {
   "cell_type": "markdown",
   "metadata": {},
   "source": [
    "## Colas o Queues🚶‍♀️🚶‍♀️🚶🚶‍♂️🚶\n",
    "Una cola es una colección ordenada de elementos en la que solo se pueden borrar elementos de un extremo llamado frente de la cola e insertar elementos en el otro extremo llamado final de la cola. Utiliza FIFO (First In First Out), que significa que el primero que entra es el primero que sale."
   ]
  },
  {
   "cell_type": "markdown",
   "metadata": {},
   "source": [
    "### Clase para implementar Queues (Colas)"
   ]
  },
  {
   "cell_type": "code",
   "execution_count": 6,
   "metadata": {},
   "outputs": [],
   "source": [
    "class Queue:\n",
    "    def __init__(self) -> None:\n",
    "        self.queue: List[Any] = []\n",
    "    \n",
    "    def add(self, elem:Any) -> None:\n",
    "       self.queue.append(elem)\n",
    "\n",
    "    def remove(self, elem:Any) -> None:\n",
    "        self.queue.pop(0) \n",
    "    \n",
    "    def size(self):\n",
    "        return len(self.queue)"
   ]
  },
  {
   "cell_type": "markdown",
   "metadata": {},
   "source": [
    "##### Clase para implementar Nodos para Árboles"
   ]
  },
  {
   "cell_type": "code",
   "execution_count": 7,
   "metadata": {},
   "outputs": [],
   "source": [
    "class Node:\n",
    "    def __init__(self, data: Any) -> None:\n",
    "        self.data = data\n",
    "        self.left: Optional[\"Node\"] = None\n",
    "        self.right: Optional[\"Node\"] = None"
   ]
  },
  {
   "cell_type": "markdown",
   "metadata": {},
   "source": [
    "##### Clase para implementar Árboles"
   ]
  },
  {
   "cell_type": "code",
   "execution_count": 8,
   "metadata": {},
   "outputs": [],
   "source": [
    "class Tree:\n",
    "    def __init__(self, root: \"Node\") -> None:\n",
    "        self.root=root\n",
    "    \n",
    "    \n"
   ]
  }
 ],
 "metadata": {
  "kernelspec": {
   "display_name": "Python 3",
   "language": "python",
   "name": "python3"
  },
  "language_info": {
   "codemirror_mode": {
    "name": "ipython",
    "version": 3
   },
   "file_extension": ".py",
   "mimetype": "text/x-python",
   "name": "python",
   "nbconvert_exporter": "python",
   "pygments_lexer": "ipython3",
   "version": "3.10.13"
  }
 },
 "nbformat": 4,
 "nbformat_minor": 2
}

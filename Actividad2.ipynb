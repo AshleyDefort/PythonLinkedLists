{
 "cells": [
  {
   "cell_type": "markdown",
   "metadata": {},
   "source": [
    "# Listas Simples y Circulares en Python 🐍\n",
    "Ashley Mercado Defort - NRC: 2442\n",
    "\n",
    "##### 1. Listas Circulares y Aplicaciones\n",
    "Las listas circulares son estructuras de datos que se utilizan en diversas aplicaciones. Algunas de las aplicaciones comunes de las listas circulares son:\n",
    "\n",
    "1. **Implementación de colas**: Las listas circulares son útiles para implementar colas¹. A diferencia de otras implementaciones, no es necesario mantener dos punteros para adelante y atrás si se utiliza una lista enlazada circular¹.\n",
    "2. **Recorrido repetido de la lista**: Las listas circulares son útiles en aplicaciones que requieren recorrer repetidamente la lista¹.\n",
    "3. **Implementación de estructuras de datos avanzadas**: Las listas circulares doblemente enlazadas se utilizan para implementar estructuras de datos avanzadas como Fibonacci Heap¹.\n",
    "4. **Módulos para otras estructuras de datos**: Las listas enlazadas se utilizan como módulos para otras estructuras de datos, como pilas y colas².\n",
    "5. **Simplificación de operaciones**: A pesar de que las listas circulares simplifican las operaciones sobre ellas, también introducen algunas complicaciones³.\n",
    "\n",
    "##### 2. Crear una función/método que permita agregar un nodo NEW antes de un nodo con el dato INFO que esté en una lista circular ya creada.  "
   ]
  },
  {
   "cell_type": "code",
   "execution_count": 9,
   "metadata": {},
   "outputs": [
    {
     "name": "stdout",
     "output_type": "stream",
     "text": [
      "1 => 2 => 3 => \n",
      "1 => 4 => 2 => 3 => \n"
     ]
    }
   ],
   "source": [
    "class node:\n",
    "    def __init__(self, data):\n",
    "        self.data = data\n",
    "        self.next = None\n",
    "class circularList:\n",
    "    def __init__(self):\n",
    "        self.head = None\n",
    "        self.tail = None\n",
    "    \n",
    "    #Método para verificar si la lista está vacía\n",
    "    def is_empty(self):\n",
    "        return self.head == None\n",
    "\n",
    "    #Método para agregar elementos a la lista\t\n",
    "    def insert(self, data):\n",
    "        newNode = node(data)\n",
    "        if self.head is None:\n",
    "            self.head = newNode\n",
    "            self.tail = newNode\n",
    "            newNode.next = self.head\n",
    "        else:\n",
    "            self.tail.next = newNode\n",
    "            self.tail = newNode\n",
    "            self.tail.next = self.head\n",
    "    \n",
    "    #Método para imprimir la lista\n",
    "    def showList(self):\n",
    "        if self.is_empty():\n",
    "            print(\"La lista está vacía\")\n",
    "        else:\n",
    "            aux = self.head\n",
    "            print(aux.data, end=\" => \")\n",
    "            while aux.next != self.head:\n",
    "                aux = aux.next\n",
    "                print(aux.data, end=\" => \")\n",
    "            print()\n",
    "    \n",
    "    #Método para agregar un elemento a la lista antes de un nodo específico\n",
    "    def insertBefore(self, data, before):\n",
    "        newNode = node(data)\n",
    "        if self.is_empty():\n",
    "            print(\"La lista está vacía\")\n",
    "        else:\n",
    "            aux = self.head\n",
    "            while aux.next != self.head:\n",
    "                if aux.next.data == before:\n",
    "                    break\n",
    "                aux = aux.next\n",
    "            if aux.next.data == before:\n",
    "                newNode.next = aux.next\n",
    "                aux.next = newNode\n",
    "            else:\n",
    "                print(\"El nodo no existe\")\n",
    "#Ejemplo\n",
    "circular = circularList()\n",
    "circular.insert(1)\n",
    "circular.insert(2)\n",
    "circular.insert(3)\n",
    "circular.showList()\n",
    "circular.insertBefore(4, 2)\n",
    "circular.showList()"
   ]
  },
  {
   "cell_type": "markdown",
   "metadata": {},
   "source": [
    "##### 3.\tDadas dos listas circulares ya creadas PTR1 y PTR2, unirlas para crear una sola lista circular cuyo nodo head  sea el nodo head de la lista PTR1."
   ]
  },
  {
   "cell_type": "code",
   "execution_count": 10,
   "metadata": {},
   "outputs": [
    {
     "name": "stdout",
     "output_type": "stream",
     "text": [
      "1 => 8 => 7 => 4 => 2 => 6 => \n",
      "1 => 8 => 7 => \n",
      "4 => 2 => 6 => \n"
     ]
    }
   ],
   "source": [
    "ptr1 = circularList()\n",
    "ptr2 = circularList()\n",
    "ptr1.insert(1)\n",
    "ptr1.insert(8)\n",
    "ptr1.insert(7)\n",
    "ptr2.insert(4)\n",
    "ptr2.insert(2)\n",
    "ptr2.insert(6)\n",
    "\n",
    "def joinLists(list1, list2):\n",
    "    if list1.is_empty():\n",
    "        return list2\n",
    "    if list2.is_empty():\n",
    "        return list1\n",
    "    aux = list1.head\n",
    "    joinedList = circularList()\n",
    "    while True:\n",
    "        joinedList.insert(aux.data)\n",
    "        aux = aux.next\n",
    "        if aux == list1.head:\n",
    "            break\n",
    "    aux = list2.head\n",
    "    while True:\n",
    "        joinedList.insert(aux.data)\n",
    "        aux = aux.next\n",
    "        if aux == list2.head:\n",
    "            break\n",
    "    return joinedList\n",
    "\n",
    "#Ejemplo\n",
    "joinLists(ptr1, ptr2).showList()\n",
    "ptr1.showList()\n",
    "ptr2.showList()"
   ]
  },
  {
   "cell_type": "markdown",
   "metadata": {},
   "source": [
    "##### 4.\tDadas dos listas circulares ya creadas PTR1 y PTR2, hacer un algoritmo que inserte los elementos de PTR2 a PTR1. \n",
    "\n",
    "La función recibe como parámetros las dos listas para luego insertar todos los elementos de la lista 2 en la lista 1 de forma ordenada."
   ]
  },
  {
   "cell_type": "code",
   "execution_count": 11,
   "metadata": {},
   "outputs": [
    {
     "name": "stdout",
     "output_type": "stream",
     "text": [
      "Lista uno:\n",
      "1 => 3 => 5 => 7 => \n",
      "Lista dos:\n",
      "2 => 4 => 6 => \n",
      "Lista uno después de la inserción:\n",
      "1 => 3 => 2 => 4 => 6 => 5 => 7 => \n"
     ]
    }
   ],
   "source": [
    "def insertListAfterNode(dato_lista_uno, lista_uno, lista_dos):\n",
    "    if lista_uno.is_empty():\n",
    "        print(\"La lista uno está vacía\")\n",
    "    else:\n",
    "        aux = lista_uno.head\n",
    "        while aux.next != lista_uno.head:\n",
    "            if aux.data == dato_lista_uno:\n",
    "                break\n",
    "            aux = aux.next\n",
    "        if aux.data == dato_lista_uno:\n",
    "            # Conectar los nodos de la lista dos en la lista uno\n",
    "            temp = aux.next\n",
    "            aux.next = lista_dos.head\n",
    "            lista_dos.tail.next = temp\n",
    "            # Si el nodo con el dato dado es el tail, actualizar el tail de la lista uno\n",
    "            if temp == lista_uno.head:\n",
    "                lista_uno.tail = lista_dos.tail\n",
    "        else:\n",
    "            print(\"El nodo con el dato dado no existe en la lista uno\")\n",
    "#Ejemplo\n",
    "lista_uno = circularList()\n",
    "lista_uno.insert(1)\n",
    "lista_uno.insert(3)\n",
    "lista_uno.insert(5)\n",
    "lista_uno.insert(7)\n",
    "\n",
    "lista_dos = circularList()\n",
    "lista_dos.insert(2)\n",
    "lista_dos.insert(4)\n",
    "lista_dos.insert(6)\n",
    "\n",
    "# Mostrar las listas antes de la inserción\n",
    "print(\"Lista uno:\")\n",
    "lista_uno.showList()\n",
    "print(\"Lista dos:\")\n",
    "lista_dos.showList()\n",
    "\n",
    "# Insertar los elementos de la lista dos después del nodo con el dato 3 de la lista uno\n",
    "insertListAfterNode(3, lista_uno, lista_dos)\n",
    "\n",
    "# Mostrar la lista uno después de la inserción\n",
    "print(\"Lista uno después de la inserción:\")\n",
    "lista_uno.showList()"
   ]
  },
  {
   "cell_type": "markdown",
   "metadata": {},
   "source": [
    "##### 5. Dadas dos listas simples enlazadas ya creadas, hacer un algoritmo que elimine de las dos listas los elementos en común entre las dos listas. Nota: No se puede asumir que las listas están ordenadas."
   ]
  },
  {
   "cell_type": "code",
   "execution_count": 12,
   "metadata": {},
   "outputs": [
    {
     "name": "stdout",
     "output_type": "stream",
     "text": [
      "Lista 1 y 2 sin elementos en común:\n",
      "[6, 7, 10]\n",
      "[12, 8, 5]\n"
     ]
    }
   ],
   "source": [
    "lista1 = [13, 6, 7, 9, 10]\n",
    "lista2 = [12, 9, 8, 13, 5]\n",
    "\n",
    "for i in lista1:\n",
    "    for j in lista2:\n",
    "        if i == j:\n",
    "            lista2.remove(j)\n",
    "            lista1.remove(i)\n",
    "            break\n",
    "print(\"Lista 1 y 2 sin elementos en común:\")\n",
    "print(lista1)\n",
    "print(lista2)"
   ]
  },
  {
   "cell_type": "markdown",
   "metadata": {},
   "source": [
    "##### 6. Estandarizar cada uno de los valores de una lista bajo el criterio Min-Max"
   ]
  },
  {
   "cell_type": "code",
   "execution_count": 13,
   "metadata": {},
   "outputs": [
    {
     "name": "stdout",
     "output_type": "stream",
     "text": [
      "Lista normalizada:\n",
      "[0.8095238095238095, 0.0, 0.14285714285714285, 1.0, 0.19047619047619047, 0.3333333333333333, 0.47619047619047616]\n",
      "Lista normalizada redondeada:\n",
      "[1, 0, 0, 1.0, 0, 0, 0]\n"
     ]
    }
   ],
   "source": [
    "lista = [19, 2, 5, 23, 6, 9, 12]\n",
    "\n",
    "minimo = __builtins__.min(lista)\n",
    "maximo = __builtins__.max(lista)\n",
    "rango = maximo - minimo\n",
    "for i in lista:\n",
    "    j = (i - minimo) / rango\n",
    "    lista[lista.index(i)] = j\n",
    "print(\"Lista normalizada:\")\n",
    "print(lista)\n",
    "\n",
    "print(\"Lista normalizada redondeada:\")\n",
    "for i in lista:\n",
    "    j = round(i)\n",
    "    lista[lista.index(i)] = j\n",
    "print(lista)"
   ]
  },
  {
   "cell_type": "markdown",
   "metadata": {},
   "source": [
    "##### 7. Algotitmo que realiza las siguiente operaciones:\n",
    "- Si la información del nodo es negativa insertar un nuevo nodo antes de este con la misma información.\n",
    "- Si la información del nodo es positiva insertar un nuevo nodo después de este con información igual al doble del valor.\n",
    "- Si la información del nodo es cero eliminarlo."
   ]
  },
  {
   "cell_type": "code",
   "execution_count": 14,
   "metadata": {},
   "outputs": [
    {
     "name": "stdout",
     "output_type": "stream",
     "text": [
      "Lista después del procedimiento:\n",
      "[-3, -3, 9, 18, 1, -2, 2, -2, 8, 16, 7, 14, 6, 12, 5, 10, 4, 8, 3, 6, 2, 4, 1, 2]\n"
     ]
    }
   ],
   "source": [
    "lista = [-3, 9, 0, 1, -2, 8, 7, 6, 5, 4, 3, 2, 1]\n",
    "i = 0\n",
    "while i < len(lista):\n",
    "    if lista[i] < 0:\n",
    "        if i == 0:\n",
    "            lista.insert(i, lista[i])\n",
    "            i += 2\n",
    "        else:   \n",
    "            lista.insert(i-1, lista[i])\n",
    "            i += 2\n",
    "    elif lista[i] > 0:\n",
    "        lista.insert(i + 1, lista[i]*2)\n",
    "        i += 2\n",
    "    elif lista[i] == 0:\n",
    "        lista.remove(lista[i])\n",
    "\n",
    "print(\"Lista después del procedimiento:\")\n",
    "print(lista)\n"
   ]
  },
  {
   "cell_type": "markdown",
   "metadata": {},
   "source": [
    "##### 8. Operaciones Básicas entre Listas"
   ]
  },
  {
   "cell_type": "code",
   "execution_count": 15,
   "metadata": {},
   "outputs": [
    {
     "name": "stdout",
     "output_type": "stream",
     "text": [
      "Lista 1:\n",
      "[1, 2, 3, 4, 5]\n",
      "Lista 2:\n",
      "[7, 8, 9, 10, 0]\n",
      "Suma de las listas:\n",
      "[8, 10, 12, 14, 5]\n",
      "Resta de las listas:\n",
      "[-6, -6, -6, -6, 5]\n",
      "Multiplicación de las listas:\n",
      "[7, 16, 27, 40, 0]\n"
     ]
    }
   ],
   "source": [
    "lista1 = [1, 2, 3, 4, 5]\n",
    "lista2 = [7, 8, 9, 10]\n",
    "if len(lista1) > len(lista2):\n",
    "    while len(lista1) != len(lista2):\n",
    "        lista2.append(0)\n",
    "else:\n",
    "    while len(lista1) != len(lista2):\n",
    "        lista1.append(0)\n",
    "suma = []\n",
    "for i in range(len(lista1)):\n",
    "    suma.append(lista1[i] + lista2[i])\n",
    "resta = []\n",
    "for i in range(len(lista1)):\n",
    "    resta.append(lista1[i] - lista2[i])\n",
    "mult = []\n",
    "for i in range(len(lista1)):\n",
    "    mult.append(lista1[i] * lista2[i])\n",
    "print(\"Lista 1:\")\n",
    "print(lista1)\n",
    "print(\"Lista 2:\")\n",
    "print(lista2)\n",
    "print(\"Suma de las listas:\")\n",
    "print(suma)\n",
    "print(\"Resta de las listas:\")\n",
    "print(resta)\n",
    "print(\"Multiplicación de las listas:\")\n",
    "print(mult)"
   ]
  },
  {
   "cell_type": "markdown",
   "metadata": {},
   "source": [
    "##### 9. Listas Semejantes\n",
    "Para este ejercicio, se hace uso de la subclase Counter del módulo Collections para contar la frecuencia en la que aparece cada elemento en las listas."
   ]
  },
  {
   "cell_type": "code",
   "execution_count": 16,
   "metadata": {},
   "outputs": [
    {
     "name": "stdout",
     "output_type": "stream",
     "text": [
      "True\n",
      "False\n"
     ]
    }
   ],
   "source": [
    "from collections import Counter\n",
    "\n",
    "lista1 = [1, 2, 3, 4, 5, 5]\n",
    "lista2 = [5, 3, 1, 5, 2, 4]\n",
    "lista3 = [9, 7, 7, 3, 1, 3]\n",
    "\n",
    "def listasSemejantes(lista1, lista2):\n",
    "    if len(lista1) != len(lista2):\n",
    "        return False\n",
    "    else:\n",
    "        if Counter(lista1) == Counter(lista2):\n",
    "            return True\n",
    "        else:\n",
    "            return False\n",
    "print(listasSemejantes(lista1, lista2))\n",
    "print(listasSemejantes(lista1, lista3))"
   ]
  },
  {
   "cell_type": "markdown",
   "metadata": {},
   "source": [
    "##### 10. Comparación Tiempos de Ejecución: Listas Enlazadas Simples y Listas Circulares"
   ]
  },
  {
   "cell_type": "code",
   "execution_count": 20,
   "metadata": {},
   "outputs": [
    {
     "name": "stdout",
     "output_type": "stream",
     "text": [
      "Tiempo de ejecución: Inserción al inicio en listas circulares\n",
      "0.05300779999924998\n",
      "Tiempo de ejecución: Inserción al final en listas circulares\n",
      "0.08635059299922432\n",
      "Tiempos de ejecución: Inserción al inicio en listas enlazadas simples\n",
      "0.05094430500139424\n",
      "Tiempo de ejecución: Inserción al final en listas enlazadas simples\n"
     ]
    },
    {
     "ename": "KeyboardInterrupt",
     "evalue": "",
     "output_type": "error",
     "traceback": [
      "\u001b[0;31m---------------------------------------------------------------------------\u001b[0m",
      "\u001b[0;31mKeyboardInterrupt\u001b[0m                         Traceback (most recent call last)",
      "\u001b[1;32m/workspaces/PythonLinkedLists/Actividad2.ipynb Celda 18\u001b[0m line \u001b[0;36m1\n\u001b[1;32m     <a href='vscode-notebook-cell://codespaces%2Bupgraded-memory-x6w5v5vw7xxfgpr/workspaces/PythonLinkedLists/Actividad2.ipynb#X25sdnNjb2RlLXJlbW90ZQ%3D%3D?line=9'>10</a>\u001b[0m \u001b[39mprint\u001b[39m(timeit\u001b[39m.\u001b[39mtimeit(\u001b[39m\"\u001b[39m\u001b[39mlinked.insertAtBeginning(1)\u001b[39m\u001b[39m\"\u001b[39m, setup\u001b[39m=\u001b[39m\u001b[39m\"\u001b[39m\u001b[39mfrom __main__ import linked\u001b[39m\u001b[39m\"\u001b[39m, number\u001b[39m=\u001b[39m\u001b[39m100000\u001b[39m))\n\u001b[1;32m     <a href='vscode-notebook-cell://codespaces%2Bupgraded-memory-x6w5v5vw7xxfgpr/workspaces/PythonLinkedLists/Actividad2.ipynb#X25sdnNjb2RlLXJlbW90ZQ%3D%3D?line=10'>11</a>\u001b[0m \u001b[39mprint\u001b[39m(\u001b[39m\"\u001b[39m\u001b[39mTiempo de ejecución: Inserción al final en listas enlazadas simples\u001b[39m\u001b[39m\"\u001b[39m)\n\u001b[0;32m---> <a href='vscode-notebook-cell://codespaces%2Bupgraded-memory-x6w5v5vw7xxfgpr/workspaces/PythonLinkedLists/Actividad2.ipynb#X25sdnNjb2RlLXJlbW90ZQ%3D%3D?line=11'>12</a>\u001b[0m \u001b[39mprint\u001b[39m(timeit\u001b[39m.\u001b[39;49mtimeit(\u001b[39m\"\u001b[39;49m\u001b[39mlinked.insertAtEnd(1)\u001b[39;49m\u001b[39m\"\u001b[39;49m, setup\u001b[39m=\u001b[39;49m\u001b[39m\"\u001b[39;49m\u001b[39mfrom __main__ import linked\u001b[39;49m\u001b[39m\"\u001b[39;49m, number\u001b[39m=\u001b[39;49m\u001b[39m100000\u001b[39;49m))\n",
      "File \u001b[0;32m~/.python/current/lib/python3.10/timeit.py:234\u001b[0m, in \u001b[0;36mtimeit\u001b[0;34m(stmt, setup, timer, number, globals)\u001b[0m\n\u001b[1;32m    231\u001b[0m \u001b[39mdef\u001b[39;00m \u001b[39mtimeit\u001b[39m(stmt\u001b[39m=\u001b[39m\u001b[39m\"\u001b[39m\u001b[39mpass\u001b[39m\u001b[39m\"\u001b[39m, setup\u001b[39m=\u001b[39m\u001b[39m\"\u001b[39m\u001b[39mpass\u001b[39m\u001b[39m\"\u001b[39m, timer\u001b[39m=\u001b[39mdefault_timer,\n\u001b[1;32m    232\u001b[0m            number\u001b[39m=\u001b[39mdefault_number, \u001b[39mglobals\u001b[39m\u001b[39m=\u001b[39m\u001b[39mNone\u001b[39;00m):\n\u001b[1;32m    233\u001b[0m \u001b[39m    \u001b[39m\u001b[39m\"\"\"Convenience function to create Timer object and call timeit method.\"\"\"\u001b[39;00m\n\u001b[0;32m--> 234\u001b[0m     \u001b[39mreturn\u001b[39;00m Timer(stmt, setup, timer, \u001b[39mglobals\u001b[39;49m)\u001b[39m.\u001b[39;49mtimeit(number)\n",
      "File \u001b[0;32m~/.python/current/lib/python3.10/timeit.py:178\u001b[0m, in \u001b[0;36mTimer.timeit\u001b[0;34m(self, number)\u001b[0m\n\u001b[1;32m    176\u001b[0m gc\u001b[39m.\u001b[39mdisable()\n\u001b[1;32m    177\u001b[0m \u001b[39mtry\u001b[39;00m:\n\u001b[0;32m--> 178\u001b[0m     timing \u001b[39m=\u001b[39m \u001b[39mself\u001b[39;49m\u001b[39m.\u001b[39;49minner(it, \u001b[39mself\u001b[39;49m\u001b[39m.\u001b[39;49mtimer)\n\u001b[1;32m    179\u001b[0m \u001b[39mfinally\u001b[39;00m:\n\u001b[1;32m    180\u001b[0m     \u001b[39mif\u001b[39;00m gcold:\n",
      "File \u001b[0;32m<timeit-src>:6\u001b[0m, in \u001b[0;36minner\u001b[0;34m(_it, _timer)\u001b[0m\n",
      "File \u001b[0;32m/workspaces/PythonLinkedLists/Actividad1.py:55\u001b[0m, in \u001b[0;36mLinkedList.insertAtEnd\u001b[0;34m(self, value)\u001b[0m\n\u001b[1;32m     52\u001b[0m     \u001b[39mreturn\u001b[39;00m\n\u001b[1;32m     54\u001b[0m current \u001b[39m=\u001b[39m \u001b[39mself\u001b[39m\u001b[39m.\u001b[39mhead\n\u001b[0;32m---> 55\u001b[0m \u001b[39mwhile\u001b[39;00m current\u001b[39m.\u001b[39mnext:\n\u001b[1;32m     56\u001b[0m     current \u001b[39m=\u001b[39m current\u001b[39m.\u001b[39mnext\n\u001b[1;32m     57\u001b[0m current\u001b[39m.\u001b[39mnext \u001b[39m=\u001b[39m new_node\n",
      "\u001b[0;31mKeyboardInterrupt\u001b[0m: "
     ]
    }
   ],
   "source": [
    "import timeit\n",
    "from Actividad1 import LinkedList\n",
    "circular = circularList()\n",
    "linked = LinkedList()\n",
    "print(\"Tiempo de ejecución: Inserción al inicio en listas circulares\")\n",
    "print(timeit.timeit(\"circular.insert(1)\", setup=\"from __main__ import circular\", number=100000))\n",
    "print(\"Tiempo de ejecución: Inserción al final en listas circulares\")\n",
    "print(timeit.timeit(\"circular.insert(1)\", setup=\"from __main__ import circular\", number=100000))\n",
    "print(\"Tiempos de ejecución: Inserción al inicio en listas enlazadas simples\")\n",
    "print(timeit.timeit(\"linked.insertAtBeginning(1)\", setup=\"from __main__ import linked\", number=100000))\n",
    "print(\"Tiempo de ejecución: Inserción al final en listas enlazadas simples\")\n",
    "print(timeit.timeit(\"linked.insertAtEnd(1)\", setup=\"from __main__ import linked\", number=100000))\n",
    "\n"
   ]
  },
  {
   "cell_type": "markdown",
   "metadata": {},
   "source": [
    "#### Referencias\n",
    "- Aplicaciones de la estructura de datos de lista enlazada. https://bing.com/search?q=aplicaciones+de+las+listas+circulares.\n",
    "- Lista enlazada - Wikipedia, la enciclopedia libre. https://es.wikipedia.org/wiki/Lista_enlazada.\n",
    "-Listas Circulares - Universidad Autónoma del Estado de Hidalgo. https://cidecame.uaeh.edu.mx/lcc/mapa/proyecto/libro9/listas_circulares.html.\n",
    "- Qué son las listas circulares en C - CCM. https://es.ccm.net/ordenadores/programacion/1664-las-listas-circulares/."
   ]
  }
 ],
 "metadata": {
  "kernelspec": {
   "display_name": "Python 3",
   "language": "python",
   "name": "python3"
  },
  "language_info": {
   "codemirror_mode": {
    "name": "ipython",
    "version": 3
   },
   "file_extension": ".py",
   "mimetype": "text/x-python",
   "name": "python",
   "nbconvert_exporter": "python",
   "pygments_lexer": "ipython3",
   "version": "3.10.8"
  },
  "orig_nbformat": 4
 },
 "nbformat": 4,
 "nbformat_minor": 2
}

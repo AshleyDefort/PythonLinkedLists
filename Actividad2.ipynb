{
 "cells": [
  {
   "cell_type": "markdown",
   "metadata": {},
   "source": [
    "# Listas Simples y Circulares en Python 🐍\n",
    "Ashley Mercado Defort - NRC: 2442\n",
    "\n",
    "#### 1. Listas Circulares y Aplicaciones\n",
    "Las listas circulares son estructuras de datos que se utilizan en diversas aplicaciones. Algunas de las aplicaciones comunes de las listas circulares son:\n",
    "\n",
    "1. **Implementación de colas**: Las listas circulares son útiles para implementar colas¹. A diferencia de otras implementaciones, no es necesario mantener dos punteros para adelante y atrás si se utiliza una lista enlazada circular¹.\n",
    "2. **Recorrido repetido de la lista**: Las listas circulares son útiles en aplicaciones que requieren recorrer repetidamente la lista¹.\n",
    "3. **Implementación de estructuras de datos avanzadas**: Las listas circulares doblemente enlazadas se utilizan para implementar estructuras de datos avanzadas como Fibonacci Heap¹.\n",
    "4. **Módulos para otras estructuras de datos**: Las listas enlazadas se utilizan como módulos para otras estructuras de datos, como pilas y colas².\n",
    "5. **Simplificación de operaciones**: A pesar de que las listas circulares simplifican las operaciones sobre ellas, también introducen algunas complicaciones³.\n",
    "\n",
    "#### 2. Crear una función/método que permita agregar un nodo NEW antes de un nodo con el dato INFO que esté en una lista circular ya creada.  "
   ]
  },
  {
   "cell_type": "code",
   "execution_count": 8,
   "metadata": {},
   "outputs": [
    {
     "name": "stdout",
     "output_type": "stream",
     "text": [
      "1 => 2 => 3 => \n",
      "1 => 4 => 2 => 3 => \n"
     ]
    }
   ],
   "source": [
    "class node:\n",
    "    def __init__(self, data):\n",
    "        self.data = data\n",
    "        self.next = None\n",
    "class circularList:\n",
    "    def __init__(self):\n",
    "        self.head = None\n",
    "        self.tail = None\n",
    "    \n",
    "    #Método para verificar si la lista está vacía\n",
    "    def is_empty(self):\n",
    "        return self.head == None\n",
    "\n",
    "    #Método para agregar elementos a la lista\t\n",
    "    def insert(self, data):\n",
    "        newNode = node(data)\n",
    "        if self.head is None:\n",
    "            self.head = newNode\n",
    "            self.tail = newNode\n",
    "            newNode.next = self.head\n",
    "        else:\n",
    "            self.tail.next = newNode\n",
    "            self.tail = newNode\n",
    "            self.tail.next = self.head\n",
    "    \n",
    "    #Método para imprimir la lista\n",
    "    def showList(self):\n",
    "        if self.is_empty():\n",
    "            print(\"La lista está vacía\")\n",
    "        else:\n",
    "            aux = self.head\n",
    "            print(aux.data, end=\" => \")\n",
    "            while aux.next != self.head:\n",
    "                aux = aux.next\n",
    "                print(aux.data, end=\" => \")\n",
    "            print()\n",
    "    \n",
    "    #Método para agregar un elemento a la lista antes de un nodo específico\n",
    "    def insertBefore(self, data, before):\n",
    "        newNode = node(data)\n",
    "        if self.is_empty():\n",
    "            print(\"La lista está vacía\")\n",
    "        else:\n",
    "            aux = self.head\n",
    "            while aux.next != self.head:\n",
    "                if aux.next.data == before:\n",
    "                    break\n",
    "                aux = aux.next\n",
    "            if aux.next.data == before:\n",
    "                newNode.next = aux.next\n",
    "                aux.next = newNode\n",
    "            else:\n",
    "                print(\"El nodo no existe\")\n",
    "#Ejemplo\n",
    "circular = circularList()\n",
    "circular.insert(1)\n",
    "circular.insert(2)\n",
    "circular.insert(3)\n",
    "circular.showList()\n",
    "circular.insertBefore(4, 2)\n",
    "circular.showList()"
   ]
  },
  {
   "cell_type": "markdown",
   "metadata": {},
   "source": [
    "#### 3.\tDadas dos listas circulares ya creadas PTR1 y PTR2, unirlas para crear una sola lista circular cuyo nodo head  sea el nodo head de la lista PTR1."
   ]
  },
  {
   "cell_type": "code",
   "execution_count": 11,
   "metadata": {},
   "outputs": [
    {
     "name": "stdout",
     "output_type": "stream",
     "text": [
      "1 => 2 => 3 => 4 => 5 => 6 => \n",
      "1 => 2 => 3 => \n",
      "4 => 5 => 6 => \n"
     ]
    }
   ],
   "source": [
    "ptr1 = circularList()\n",
    "ptr2 = circularList()\n",
    "ptr1.insert(1)\n",
    "ptr1.insert(2)\n",
    "ptr1.insert(3)\n",
    "ptr2.insert(4)\n",
    "ptr2.insert(5)\n",
    "ptr2.insert(6)\n",
    "\n",
    "def joinLists(list1, list2):\n",
    "    if list1.is_empty():\n",
    "        return list2\n",
    "    if list2.is_empty():\n",
    "        return list1\n",
    "    aux = list1.head\n",
    "    joinedList = circularList()\n",
    "    while True:\n",
    "        joinedList.insert(aux.data)\n",
    "        aux = aux.next\n",
    "        if aux == list1.head:\n",
    "            break\n",
    "    aux = list2.head\n",
    "    while True:\n",
    "        joinedList.insert(aux.data)\n",
    "        aux = aux.next\n",
    "        if aux == list2.head:\n",
    "            break\n",
    "    return joinedList\n",
    "\n",
    "#Ejemplo\n",
    "joinLists(ptr1, ptr2).showList()\n",
    "ptr1.showList()\n",
    "ptr2.showList()"
   ]
  },
  {
   "cell_type": "markdown",
   "metadata": {},
   "source": [
    "#### 4.\tDadas dos listas circulares ya creadas PTR1 y PTR2, hacer un algoritmo que inserte los elementos de PTR2 a PTR1. \n",
    "\n",
    "La función recibe como parámetros las dos listas para luego insertar todos los elementos de la lista 2 en la lista 1 de forma ordenada."
   ]
  },
  {
   "cell_type": "code",
   "execution_count": null,
   "metadata": {},
   "outputs": [],
   "source": [
    "def addList2ToList1(list1, list2):\n",
    "    if list1.is_empty():\n",
    "        return list2\n",
    "    if list2.is_empty():\n",
    "        return list1\n",
    "    aux1 = list1.head\n",
    "    aux2 = list2.head\n",
    "    while aux.next != list1.head and aux2.next != list2.head:\n",
    "        aux1.data += aux2.data\n",
    "        aux1 = aux1.next\n",
    "        aux2 = aux2.next\n",
    "        "
   ]
  },
  {
   "cell_type": "markdown",
   "metadata": {},
   "source": [
    "#### Referencias\n",
    "- Aplicaciones de la estructura de datos de lista enlazada. https://bing.com/search?q=aplicaciones+de+las+listas+circulares.\n",
    "- Lista enlazada - Wikipedia, la enciclopedia libre. https://es.wikipedia.org/wiki/Lista_enlazada.\n",
    "-Listas Circulares - Universidad Autónoma del Estado de Hidalgo. https://cidecame.uaeh.edu.mx/lcc/mapa/proyecto/libro9/listas_circulares.html.\n",
    "- Qué son las listas circulares en C - CCM. https://es.ccm.net/ordenadores/programacion/1664-las-listas-circulares/."
   ]
  }
 ],
 "metadata": {
  "kernelspec": {
   "display_name": "Python 3",
   "language": "python",
   "name": "python3"
  },
  "language_info": {
   "codemirror_mode": {
    "name": "ipython",
    "version": 3
   },
   "file_extension": ".py",
   "mimetype": "text/x-python",
   "name": "python",
   "nbconvert_exporter": "python",
   "pygments_lexer": "ipython3",
   "version": "3.10.8"
  },
  "orig_nbformat": 4
 },
 "nbformat": 4,
 "nbformat_minor": 2
}

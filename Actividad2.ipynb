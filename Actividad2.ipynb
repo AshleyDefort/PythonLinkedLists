{
 "cells": [
  {
   "cell_type": "markdown",
   "metadata": {},
   "source": [
    "# Listas Simples y Circulares en Python 🐍\n",
    "Ashley Mercado Defort - NRC: 2442\n",
    "\n",
    "#### 1. Listas Circulares y Aplicaciones\n",
    "Las listas circulares son estructuras de datos que se utilizan en diversas aplicaciones. Algunas de las aplicaciones comunes de las listas circulares son:\n",
    "\n",
    "1. **Implementación de colas**: Las listas circulares son útiles para implementar colas¹. A diferencia de otras implementaciones, no es necesario mantener dos punteros para adelante y atrás si se utiliza una lista enlazada circular¹.\n",
    "2. **Recorrido repetido de la lista**: Las listas circulares son útiles en aplicaciones que requieren recorrer repetidamente la lista¹.\n",
    "3. **Implementación de estructuras de datos avanzadas**: Las listas circulares doblemente enlazadas se utilizan para implementar estructuras de datos avanzadas como Fibonacci Heap¹.\n",
    "4. **Módulos para otras estructuras de datos**: Las listas enlazadas se utilizan como módulos para otras estructuras de datos, como pilas y colas².\n",
    "5. **Simplificación de operaciones**: A pesar de que las listas circulares simplifican las operaciones sobre ellas, también introducen algunas complicaciones³.\n",
    "\n",
    "#### 2. Crear una función/método que permita agregar un nodo NEW antes de un nodo con el dato INFO que esté en una lista circular ya creada.  "
   ]
  },
  {
   "cell_type": "code",
   "execution_count": 2,
   "metadata": {},
   "outputs": [
    {
     "name": "stdout",
     "output_type": "stream",
     "text": [
      "1 => 2 => 3 => \n",
      "1 => 4 => 2 => 3 => \n"
     ]
    }
   ],
   "source": [
    "class node:\n",
    "    def __init__(self, data):\n",
    "        self.data = data\n",
    "        self.next = None\n",
    "class circularList:\n",
    "    def __init__(self):\n",
    "        self.head = None\n",
    "        self.tail = None\n",
    "    \n",
    "    #Método para verificar si la lista está vacía\n",
    "    def is_empty(self):\n",
    "        return self.head == None\n",
    "\n",
    "    #Método para agregar elementos a la lista\t\n",
    "    def insert(self, data):\n",
    "        newNode = node(data)\n",
    "        if self.head is None:\n",
    "            self.head = newNode\n",
    "            self.tail = newNode\n",
    "            newNode.next = self.head\n",
    "        else:\n",
    "            self.tail.next = newNode\n",
    "            self.tail = newNode\n",
    "            self.tail.next = self.head\n",
    "    \n",
    "    #Método para imprimir la lista\n",
    "    def showList(self):\n",
    "        if self.is_empty():\n",
    "            print(\"La lista está vacía\")\n",
    "        else:\n",
    "            aux = self.head\n",
    "            print(aux.data, end=\" => \")\n",
    "            while aux.next != self.head:\n",
    "                aux = aux.next\n",
    "                print(aux.data, end=\" => \")\n",
    "            print()\n",
    "    \n",
    "    #Método para agregar un elemento a la lista antes de un nodo específico\n",
    "    def insertBefore(self, data, before):\n",
    "        newNode = node(data)\n",
    "        if self.is_empty():\n",
    "            print(\"La lista está vacía\")\n",
    "        else:\n",
    "            aux = self.head\n",
    "            while aux.next != self.head:\n",
    "                if aux.next.data == before:\n",
    "                    break\n",
    "                aux = aux.next\n",
    "            if aux.next.data == before:\n",
    "                newNode.next = aux.next\n",
    "                aux.next = newNode\n",
    "            else:\n",
    "                print(\"El nodo no existe\")\n",
    "#Ejemplo\n",
    "circular = circularList()\n",
    "circular.insert(1)\n",
    "circular.insert(2)\n",
    "circular.insert(3)\n",
    "circular.showList()\n",
    "circular.insertBefore(4, 2)\n",
    "circular.showList()"
   ]
  },
  {
   "cell_type": "markdown",
   "metadata": {},
   "source": [
    "#### 3.\tDadas dos listas circulares ya creadas PTR1 y PTR2, unirlas para crear una sola lista circular cuyo nodo head  sea el nodo head de la lista PTR1."
   ]
  },
  {
   "cell_type": "code",
   "execution_count": 3,
   "metadata": {},
   "outputs": [
    {
     "name": "stdout",
     "output_type": "stream",
     "text": [
      "1 => 8 => 7 => 4 => 2 => 6 => \n",
      "1 => 8 => 7 => \n",
      "4 => 2 => 6 => \n"
     ]
    }
   ],
   "source": [
    "ptr1 = circularList()\n",
    "ptr2 = circularList()\n",
    "ptr1.insert(1)\n",
    "ptr1.insert(8)\n",
    "ptr1.insert(7)\n",
    "ptr2.insert(4)\n",
    "ptr2.insert(2)\n",
    "ptr2.insert(6)\n",
    "\n",
    "def joinLists(list1, list2):\n",
    "    if list1.is_empty():\n",
    "        return list2\n",
    "    if list2.is_empty():\n",
    "        return list1\n",
    "    aux = list1.head\n",
    "    joinedList = circularList()\n",
    "    while True:\n",
    "        joinedList.insert(aux.data)\n",
    "        aux = aux.next\n",
    "        if aux == list1.head:\n",
    "            break\n",
    "    aux = list2.head\n",
    "    while True:\n",
    "        joinedList.insert(aux.data)\n",
    "        aux = aux.next\n",
    "        if aux == list2.head:\n",
    "            break\n",
    "    return joinedList\n",
    "\n",
    "#Ejemplo\n",
    "joinLists(ptr1, ptr2).showList()\n",
    "ptr1.showList()\n",
    "ptr2.showList()"
   ]
  },
  {
   "cell_type": "markdown",
   "metadata": {},
   "source": [
    "#### 4.\tDadas dos listas circulares ya creadas PTR1 y PTR2, hacer un algoritmo que inserte los elementos de PTR2 a PTR1. \n",
    "\n",
    "La función recibe como parámetros las dos listas para luego insertar todos los elementos de la lista 2 en la lista 1 de forma ordenada."
   ]
  },
  {
   "cell_type": "code",
   "execution_count": 9,
   "metadata": {},
   "outputs": [
    {
     "ename": "KeyboardInterrupt",
     "evalue": "",
     "output_type": "error",
     "traceback": [
      "\u001b[0;31m---------------------------------------------------------------------------\u001b[0m",
      "\u001b[0;31mKeyboardInterrupt\u001b[0m                         Traceback (most recent call last)",
      "\u001b[1;32m/workspaces/PythonLinkedLists/Actividad2.ipynb Celda 6\u001b[0m line \u001b[0;36m1\n\u001b[1;32m     <a href='vscode-notebook-cell://codespaces%2Bupgraded-memory-x6w5v5vw7xxfgpr/workspaces/PythonLinkedLists/Actividad2.ipynb#W5sdnNjb2RlLXJlbW90ZQ%3D%3D?line=14'>15</a>\u001b[0m     \u001b[39mreturn\u001b[39;00m list1\n\u001b[1;32m     <a href='vscode-notebook-cell://codespaces%2Bupgraded-memory-x6w5v5vw7xxfgpr/workspaces/PythonLinkedLists/Actividad2.ipynb#W5sdnNjb2RlLXJlbW90ZQ%3D%3D?line=15'>16</a>\u001b[0m \u001b[39m#Ejemplo\u001b[39;00m\n\u001b[0;32m---> <a href='vscode-notebook-cell://codespaces%2Bupgraded-memory-x6w5v5vw7xxfgpr/workspaces/PythonLinkedLists/Actividad2.ipynb#W5sdnNjb2RlLXJlbW90ZQ%3D%3D?line=16'>17</a>\u001b[0m addList2ToList1(ptr1, ptr2, \u001b[39m2\u001b[39;49m)\u001b[39m.\u001b[39mshowList()\n",
      "\u001b[1;32m/workspaces/PythonLinkedLists/Actividad2.ipynb Celda 6\u001b[0m line \u001b[0;36m7\n\u001b[1;32m      <a href='vscode-notebook-cell://codespaces%2Bupgraded-memory-x6w5v5vw7xxfgpr/workspaces/PythonLinkedLists/Actividad2.ipynb#W5sdnNjb2RlLXJlbW90ZQ%3D%3D?line=4'>5</a>\u001b[0m     \u001b[39mreturn\u001b[39;00m list1\n\u001b[1;32m      <a href='vscode-notebook-cell://codespaces%2Bupgraded-memory-x6w5v5vw7xxfgpr/workspaces/PythonLinkedLists/Actividad2.ipynb#W5sdnNjb2RlLXJlbW90ZQ%3D%3D?line=5'>6</a>\u001b[0m aux \u001b[39m=\u001b[39m list1\u001b[39m.\u001b[39mhead\n\u001b[0;32m----> <a href='vscode-notebook-cell://codespaces%2Bupgraded-memory-x6w5v5vw7xxfgpr/workspaces/PythonLinkedLists/Actividad2.ipynb#W5sdnNjb2RlLXJlbW90ZQ%3D%3D?line=6'>7</a>\u001b[0m \u001b[39mwhile\u001b[39;00m aux\u001b[39m.\u001b[39mnext \u001b[39m!=\u001b[39m list1\u001b[39m.\u001b[39mhead:\n\u001b[1;32m      <a href='vscode-notebook-cell://codespaces%2Bupgraded-memory-x6w5v5vw7xxfgpr/workspaces/PythonLinkedLists/Actividad2.ipynb#W5sdnNjb2RlLXJlbW90ZQ%3D%3D?line=7'>8</a>\u001b[0m     \u001b[39mif\u001b[39;00m aux\u001b[39m.\u001b[39mdata \u001b[39m==\u001b[39m data:\n\u001b[1;32m      <a href='vscode-notebook-cell://codespaces%2Bupgraded-memory-x6w5v5vw7xxfgpr/workspaces/PythonLinkedLists/Actividad2.ipynb#W5sdnNjb2RlLXJlbW90ZQ%3D%3D?line=8'>9</a>\u001b[0m         aux2 \u001b[39m=\u001b[39m list2\u001b[39m.\u001b[39mhead\n",
      "\u001b[0;31mKeyboardInterrupt\u001b[0m: "
     ]
    }
   ],
   "source": [
    "def addList2ToList1(list1, list2, data):\n",
    "    if list1.is_empty():\n",
    "        return list2\n",
    "    if list2.is_empty():\n",
    "        return list1\n",
    "    aux = list1.head\n",
    "    while aux.next != list1.head:\n",
    "        aux = aux.next\n",
    "    \n",
    "    return list1\n",
    "#Ejemplo\n",
    "addList2ToList1(ptr1, ptr2, 2).showList()"
   ]
  },
  {
   "cell_type": "markdown",
   "metadata": {},
   "source": [
    "#### Referencias\n",
    "- Aplicaciones de la estructura de datos de lista enlazada. https://bing.com/search?q=aplicaciones+de+las+listas+circulares.\n",
    "- Lista enlazada - Wikipedia, la enciclopedia libre. https://es.wikipedia.org/wiki/Lista_enlazada.\n",
    "-Listas Circulares - Universidad Autónoma del Estado de Hidalgo. https://cidecame.uaeh.edu.mx/lcc/mapa/proyecto/libro9/listas_circulares.html.\n",
    "- Qué son las listas circulares en C - CCM. https://es.ccm.net/ordenadores/programacion/1664-las-listas-circulares/."
   ]
  }
 ],
 "metadata": {
  "kernelspec": {
   "display_name": "Python 3",
   "language": "python",
   "name": "python3"
  },
  "language_info": {
   "codemirror_mode": {
    "name": "ipython",
    "version": 3
   },
   "file_extension": ".py",
   "mimetype": "text/x-python",
   "name": "python",
   "nbconvert_exporter": "python",
   "pygments_lexer": "ipython3",
   "version": "3.10.8"
  },
  "orig_nbformat": 4
 },
 "nbformat": 4,
 "nbformat_minor": 2
}
